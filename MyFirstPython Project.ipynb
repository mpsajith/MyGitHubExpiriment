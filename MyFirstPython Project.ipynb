{
    "nbformat_minor": 1, 
    "cells": [
        {
            "source": "# MY First Python Project Attempt", 
            "cell_type": "markdown", 
            "metadata": {
                "collapsed": true
            }
        }, 
        {
            "execution_count": 6, 
            "cell_type": "code", 
            "metadata": {}, 
            "outputs": [
                {
                    "output_type": "stream", 
                    "name": "stdout", 
                    "text": "Hello Python Good Evening\n"
                }
            ], 
            "source": "print('Hello Python Good Evening')"
        }, 
        {
            "execution_count": 8, 
            "cell_type": "code", 
            "metadata": {}, 
            "outputs": [
                {
                    "output_type": "stream", 
                    "name": "stdout", 
                    "text": "WEEK1 EXERCISE\nsajith m p\nsjt  \n<class 'float'>\nTrue\n-1\n"
                }
            ], 
            "source": "print('WEEK1 EXERCISE')\nstg='SAJITH M P'\nstg1= stg.lower()\nprint(stg1)\nprint(stg1[::2])\nprint(type(5.5))\nprint(bool(1))\nfloat(5)\ntype(float(5))\nprint(stg.find(\"R\"))\nA=1\n"
        }, 
        {
            "execution_count": 30, 
            "cell_type": "code", 
            "metadata": {}, 
            "outputs": [
                {
                    "output_type": "stream", 
                    "name": "stdout", 
                    "text": "Week 2 Exercise\n"
                }
            ], 
            "source": "print('Week 2 Exercise')"
        }, 
        {
            "execution_count": 35, 
            "cell_type": "code", 
            "metadata": {}, 
            "outputs": [
                {
                    "output_type": "stream", 
                    "name": "stdout", 
                    "text": "Preetha\n('pop', 'rock', 'soul', 'hard rock', 'soft rock', 'R&B', 'progressive rock', 'disco')\n8\n('hard rock', 'soft rock', 'R&B')\n5\n[-5, -3, 1]\n"
                }
            ], 
            "source": "TupleEx=(1,2,\"sajith\",\"Preetha\",43,39.5,(\"Gokul\",\"Gagan\",14,4))\nprint(TupleEx[3])\n\ngenres_tuple = (\"pop\", \"rock\", \"soul\", \"hard rock\", \"soft rock\",\"R&B\", \"progressive rock\", \"disco\") \nprint(genres_tuple)\nprint(len(genres_tuple))\nprint(genres_tuple[3:6])\nprint(genres_tuple.index(\"R&B\"))\nC_tuple = (-5, 1, -3)\nC_list = sorted(C_tuple)\nprint(C_list)\n"
        }, 
        {
            "execution_count": 21, 
            "cell_type": "code", 
            "metadata": {}, 
            "outputs": [
                {
                    "output_type": "stream", 
                    "name": "stdout", 
                    "text": "\\\n"
                }
            ], 
            "source": "A=\"1\"\nB=\"2\"\nC = A + B\nprint(\"\\\\\")\n\n"
        }, 
        {
            "execution_count": 48, 
            "cell_type": "code", 
            "metadata": {}, 
            "outputs": [
                {
                    "output_type": "stream", 
                    "name": "stdout", 
                    "text": "['Michael Jackson', 10.2, ['pop', 10]]\n['Michael Jackson', 10.2, ['pop', 10], 'pop', 10]\n5\nBefore change: ['disco', 10, 1.2]\nAfter change: ['hard rock', 10, 1.2]\nBefore change: ['hard rock', 10, 1.2]\nAfter change: [10, 1.2]\n['hard', 'rock']\n['A', 'B', 'C', 'D']\nA: ['hard rock', 10, 1.2]\nB: ['hard rock', 10, 1.2]\nB[0]: hard rock\nB[0]: banana\n"
                }
            ], 
            "source": "L = [ \"Michael Jackson\", 10.2]\nL.append(['pop', 10])\nprint(L)\nL.extend(['pop', 10])\nprint(L)\nprint(len(L))\nA = [\"disco\", 10, 1.2]\nprint('Before change:', A)\nA[0] = 'hard rock'\nprint('After change:', A)\nprint('Before change:', A)\ndel(A[0])\nprint('After change:', A)\nA = 'hard rock'.split()\nprint(A)\nprint('A,B,C,D'.split(','))\nA = [\"hard rock\", 10, 1.2]\nB = A\nprint('A:', A)\nprint('B:', B)\nprint('B[0]:', B[0])\nA[0] = \"banana\"\nprint('B[0]:', B[0])\n"
        }, 
        {
            "execution_count": 65, 
            "cell_type": "code", 
            "metadata": {}, 
            "outputs": [
                {
                    "output_type": "stream", 
                    "name": "stdout", 
                    "text": "5\n6\n['gokul', 'gagan']\ndict_keys(['The Bodyguard', 'Saturday Night Fever'])\ndict_values(['1992', '1977'])\ndict_keys(['The Bodyguard', 'Back in Black', 'Thriller'])\ndict_values([50, 50, 65])\n"
                }
            ], 
            "source": "Dict = {\"key1\": 1, \"key2\": \"2\", \"key3\": [3, 3, 3], \"key4\": (4, 4, 4), ('key5'): 5, (0, 1): 6, ('sajith','preetha'): [\"gokul\",\"gagan\"]}\nprint(Dict[('key5')])\nprint(Dict[(0,1)])\nprint(Dict[('sajith','preetha')])\nsoundtrack_dic = {\"The Bodyguard\":\"1992\", \"Saturday Night Fever\":\"1977\"}\nprint(soundtrack_dic.keys())\nprint(soundtrack_dic.values())\nalbum_sales_dict = {\"The Bodyguard\":50, \"Back in Black\":50, \"Thriller\":65}\nprint(album_sales_dict.keys())\nprint(album_sales_dict.values())\n"
        }, 
        {
            "execution_count": null, 
            "cell_type": "code", 
            "metadata": {}, 
            "outputs": [], 
            "source": "A=set(['rap','house','electronic music','rap'])\nprint(A)\nA=set([1,2,3,4.5,\"Sajith\"])\nprint(A)\nA = [1, 2, 2, 1]  \nB = set([1, 2, 2, 1])\nprint(\"the sum of A is:\", sum(A))\nprint(\"the sum of B is:\", sum(B))"
        }, 
        {
            "execution_count": 5, 
            "cell_type": "code", 
            "metadata": {}, 
            "outputs": [
                {
                    "output_type": "stream", 
                    "name": "stdout", 
                    "text": "test\nBA\nthis album is amazing\n"
                }
            ], 
            "source": "print(\"test\")\nif ('BA' > 'AB'):\n    print(\"BA\")\nelse:\n    print(\"AB\")\n    \nrating = 8.5\nif rating > 8:\n    print (\"this album is amazing\")\nelse:\n    print (\"this album is ok\")"
        }, 
        {
            "execution_count": 25, 
            "cell_type": "code", 
            "metadata": {}, 
            "outputs": [
                {
                    "output_type": "stream", 
                    "name": "stdout", 
                    "text": "-4\n-3\n-2\n-1\n0\n1\n2\n3\n4\n1982\n1980\n1973\nrock\nR&B\nSoundtrack\nR&B\nsoul\npop\n{'r', 'o', 'a', 'n', 'g', 'e'}\n"
                }
            ], 
            "source": "for i in range(-4, 5):\n    print(i)\ndates = [1982,1980,1973]\nfor i in dates:  \n    print(i)   \nGenres=[ 'rock', 'R&B', 'Soundtrack', 'R&B', 'soul', 'pop']\nfor str in Genres:\n    print(str)\n    \nsquares = ['orange', 'orange', 'purple', 'blue ', 'orange']\nnew_squares = []\ni = 0\nwhile(squares[i] == 'orange'):\n    new_squares.extend(squares[i])\n    i = i + 1\nprint (set(new_squares))\n\n"
        }, 
        {
            "execution_count": 31, 
            "cell_type": "code", 
            "metadata": {}, 
            "outputs": [
                {
                    "output_type": "stream", 
                    "name": "stdout", 
                    "text": "2\nsajith preetha\n{3, 123, 4, 5}\n"
                }
            ], 
            "source": "def con(a, b):\n    return(a + b)\n\nprint(con(1,1))\nprint(con('sajith',' preetha'))\nprint(set(con([123,3,4],[3,4,5])))\n"
        }, 
        {
            "execution_count": 55, 
            "cell_type": "code", 
            "metadata": {}, 
            "outputs": [
                {
                    "output_type": "stream", 
                    "name": "stdout", 
                    "text": "Radius of object: 10\nRadius of object of after applying the method add_radius(2): 12\nRadius of object of after applying the method add_radius(5): 17\nRadius of object of after applying the method add_radius(2): 50\nRadius of object of after applying the method add_radius(5): 55\n"
                }, 
                {
                    "output_type": "display_data", 
                    "data": {
                        "image/png": "[encoded data removed]", 
                        "text/plain": "<Figure size 432x288 with 1 Axes>"
                    }, 
                    "metadata": {
                        "needs_background": "light"
                    }
                }, 
                {
                    "output_type": "display_data", 
                    "data": {
                        "image/png": "[encoded data removed]", 
                        "text/plain": "<Figure size 432x288 with 1 Axes>"
                    }, 
                    "metadata": {
                        "needs_background": "light"
                    }
                }, 
                {
                    "output_type": "display_data", 
                    "data": {
                        "image/png": "[encoded data removed]", 
                        "text/plain": "<Figure size 432x288 with 1 Axes>"
                    }, 
                    "metadata": {
                        "needs_background": "light"
                    }
                }
            ], 
            "source": "import matplotlib.pyplot as plt\n%matplotlib inline  \n\nclass Circle(object):\n    \n    # Constructor\n    def __init__(self, radius=3, color='red'):\n        self.radius = radius\n        self.color = color \n    \n    # Method\n    def add_radius(self, r):\n        self.radius = self.radius + r\n        return(self.radius)\n    \n    # Method\n    def drawCircle(self):\n        plt.gca().add_patch(plt.Circle((0, 0), radius=self.radius, fc=self.color))\n        plt.axis('scaled')\n        plt.show()  \n        \nRedCircle = Circle(10, 'red')\nprint('Radius of object:',RedCircle.radius)\nRedCircle.add_radius(2)\nprint('Radius of object of after applying the method add_radius(2):',RedCircle.radius)\nRedCircle.add_radius(5)\nprint('Radius of object of after applying the method add_radius(5):',RedCircle.radius)\n\nBlueCircle = Circle(radius=50,color='blue')\nprint('Radius of object of after applying the method add_radius(2):',BlueCircle.radius)\nBlueCircle.add_radius(5)\nprint('Radius of object of after applying the method add_radius(5):',BlueCircle.radius)\n\nBlueCircle.drawCircle()\n\nclass Rectangle(object):\n    \n    # Constructor\n    def __init__(self, width=2, height=3, color='r'):\n        self.height = height \n        self.width = width\n        self.color = color\n    \n    # Method\n    def drawRectangle(self):\n        plt.gca().add_patch(plt.Rectangle((0, 0), self.width, self.height ,fc=self.color))\n        plt.axis('scaled')\n        plt.show()\n        \nSkinnyBlueRectangle = Rectangle(2, 10, 'blue')\n\nSkinnyBlueRectangle.drawRectangle()\n\nFatYellowRectangle = Rectangle(20, 5, 'yellow')\nFatYellowRectangle.drawRectangle()\n"
        }, 
        {
            "execution_count": 7, 
            "cell_type": "code", 
            "metadata": {}, 
            "outputs": [
                {
                    "output_type": "stream", 
                    "name": "stdout", 
                    "text": "/data/Example1.txt: No such file or directory\r\n"
                }
            ], 
            "source": "# Download Example file\n\n!wget -O /data/Example1.txt https://s3-api.us-geo.objectstorage.softlayer.net/cf-courses-data/CognitiveClass/PY0101EN/labs/example1.txt\n\n"
        }, 
        {
            "execution_count": 8, 
            "cell_type": "code", 
            "metadata": {}, 
            "outputs": [
                {
                    "ename": "FileNotFoundError", 
                    "evalue": "[Errno 2] No such file or directory: '/resources/data/Example1.txt'", 
                    "traceback": [
                        "\u001b[0;31m---------------------------------------------------------------------------\u001b[0m", 
                        "\u001b[0;31mFileNotFoundError\u001b[0m                         Traceback (most recent call last)", 
                        "\u001b[0;32m<ipython-input-8-024edf23ed12>\u001b[0m in \u001b[0;36m<module>\u001b[0;34m()\u001b[0m\n\u001b[1;32m     10\u001b[0m     \u001b[0;34m'FILE'\u001b[0m\u001b[0;34m:\u001b[0m \u001b[0;34m'Example1.txt'\u001b[0m\u001b[0;34m\u001b[0m\u001b[0;34m\u001b[0m\u001b[0m\n\u001b[1;32m     11\u001b[0m }\n\u001b[0;32m---> 12\u001b[0;31m \u001b[0mfile1\u001b[0m \u001b[0;34m=\u001b[0m \u001b[0mopen\u001b[0m\u001b[0;34m(\u001b[0m\u001b[0mexample1\u001b[0m\u001b[0;34m,\u001b[0m \u001b[0;34m\"r\"\u001b[0m\u001b[0;34m)\u001b[0m\u001b[0;34m\u001b[0m\u001b[0;34m\u001b[0m\u001b[0m\n\u001b[0m", 
                        "\u001b[0;31mFileNotFoundError\u001b[0m: [Errno 2] No such file or directory: '/resources/data/Example1.txt'"
                    ], 
                    "output_type": "error"
                }
            ], 
            "source": "# The code was removed by Watson Studio for sharing."
        }, 
        {
            "execution_count": null, 
            "cell_type": "code", 
            "metadata": {}, 
            "outputs": [], 
            "source": ""
        }
    ], 
    "metadata": {
        "kernelspec": {
            "display_name": "Python 3.6 with Spark", 
            "name": "python36", 
            "language": "python3"
        }, 
        "language_info": {
            "mimetype": "text/x-python", 
            "nbconvert_exporter": "python", 
            "version": "3.6.8", 
            "name": "python", 
            "file_extension": ".py", 
            "pygments_lexer": "ipython3", 
            "codemirror_mode": {
                "version": 3, 
                "name": "ipython"
            }
        }
    }, 
    "nbformat": 4
}